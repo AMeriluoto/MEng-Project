{
 "cells": [
  {
   "cell_type": "code",
   "execution_count": 10,
   "metadata": {},
   "outputs": [],
   "source": [
    "import numpy as np\n",
    "from scipy.io import wavfile\n",
    "\n",
    "\n",
    "# =======================================\n",
    "# Parameters to tune for audio processing\n",
    "# =======================================\n",
    "\n",
    "g = 0.5 # Amplitude multiplier\n",
    "\n",
    "'''\n",
    "Adds a spatial characteristic to an input .wav audio file\n",
    "\n",
    "param[in] span : [0, 100] with 100 representing an audio signal coming from the right\n",
    "'''\n",
    "def spatialize(input_path : str, output_path : str, span : int):\n",
    "    span = 0 if span < 0 else min(span, 100)\n",
    "\n",
    "    sample_rate, data = wavfile.read(input_path)\n",
    "    audio_data = np.array(data, dtype=np.float32)\n",
    "\n",
    "    if data.dtype == np.int16:\n",
    "        audio_data = audio_data / 32768.0  # 16-bit audio normalization\n",
    "    elif data.dtype == np.int32:\n",
    "        audio_data = audio_data / 2147483648.0  # 32-bit audio normalization\n",
    "    elif data.dtype == np.uint8:\n",
    "        audio_data = (audio_data - 128) / 128.0  # 8-bit audio normalization\n",
    "\n",
    "    sample_T = 1 / sample_rate # Period of sample (in s)\n",
    "\n",
    "    # -100 = 0.0003\n",
    "    # 0 = 0\n",
    "    # 100 = 0.0003\n",
    "\n",
    "    time_delay = 0.0003 # Time delay to imitate audio traveling from one ear to the other\n",
    "    sample_shift = int(time_delay / sample_T) # Number of samples we have to shift by\n",
    "\n",
    "    right_span = span\n",
    "    left_span = 100 - span\n",
    "\n",
    "\n",
    "    # TO DO: Accomodate requests that fall between the span extremes\n",
    "    # Channel shifts are inversely proportional to their own channel spans\n",
    "    # thus directly proportional with the span of the opposite channel\n",
    "\n",
    "    left_sample_shift = int(0.0003 * ((right_span) / 100) / sample_T)\n",
    "    right_sample_shift = int(0.0003 * ((left_span) / 100) / sample_T)\n",
    "\n",
    "    '''left_sample_shift = 0 if span < 100 else int(0.0003 * ((span - 100) / 100) / sample_T)\n",
    "    right_sample_shift = 0 if span > 100 else int(0.0003 * ((100 - span) / 100) / sample_T)'''\n",
    "\n",
    "    left_sample_padding = right_sample_shift\n",
    "    right_sample_padding = left_sample_shift\n",
    "\n",
    "    left_amp_mult = g + (1 - g) * (left_span / 100)\n",
    "    right_amp_mult = g + (1 - g) * (right_span / 100)\n",
    "\n",
    "    '''left_amp_mult = 1 if span <= 100 else (g * (100 / (span - 100)))\n",
    "    right_amp_mult = 1 if span >= 100 else (g * (100 / (100 - span)))'''\n",
    "\n",
    "    print(f\"span : left shift : right shift | {span, left_sample_shift, right_sample_shift}\")\n",
    "    print(f\"left_amp_mult {left_amp_mult}, right_amp_mult {right_amp_mult}\")\n",
    "\n",
    "    left_channel_padded = np.array([0. for _ in range(left_sample_shift)] + [audio_data[i] for i in range(len(audio_data))] + [0. for _ in range(left_sample_padding)], \n",
    "                                   dtype=np.float32)\n",
    "    left_channel_padded *= left_amp_mult\n",
    "    right_channel_padded = np.array([0. for _ in range(right_sample_shift)] + [audio_data[i] for i in range(len(audio_data))] + [0. for _ in range(right_sample_padding)], \n",
    "                                   dtype=np.float32)\n",
    "    right_channel_padded *= right_amp_mult\n",
    "    \n",
    "    tone_y_stereo=np.vstack((left_channel_padded, right_channel_padded))\n",
    "    tone_y_stereo=tone_y_stereo.transpose()\n",
    "    wavfile.write(output_path, sample_rate, tone_y_stereo)"
   ]
  },
  {
   "cell_type": "code",
   "execution_count": 11,
   "metadata": {},
   "outputs": [
    {
     "name": "stdout",
     "output_type": "stream",
     "text": [
      "span : left shift : right shift | (100, 13, 0)\n",
      "left_amp_mult 0.5, right_amp_mult 1.0\n",
      "span : left shift : right shift | (0, 0, 13)\n",
      "left_amp_mult 1.0, right_amp_mult 0.5\n",
      "span : left shift : right shift | (50, 6, 6)\n",
      "left_amp_mult 0.75, right_amp_mult 0.75\n"
     ]
    }
   ],
   "source": [
    "spatialize(\"drum.wav\", \"output.wav\", 100)\n",
    "spatialize(\"drum.wav\", \"left_output.wav\", 0)\n",
    "spatialize(\"drum.wav\", \"middle.wav\", 50)"
   ]
  },
  {
   "cell_type": "code",
   "execution_count": 5,
   "metadata": {},
   "outputs": [
    {
     "name": "stdout",
     "output_type": "stream",
     "text": [
      "span : left shift : right shift | (20, 2, 10)\n"
     ]
    }
   ],
   "source": [
    "spatialize(\"drum.wav\", \"experiment.wav\", 20)"
   ]
  }
 ],
 "metadata": {
  "kernelspec": {
   "display_name": "Python 3",
   "language": "python",
   "name": "python3"
  },
  "language_info": {
   "codemirror_mode": {
    "name": "ipython",
    "version": 3
   },
   "file_extension": ".py",
   "mimetype": "text/x-python",
   "name": "python",
   "nbconvert_exporter": "python",
   "pygments_lexer": "ipython3",
   "version": "3.9.1"
  }
 },
 "nbformat": 4,
 "nbformat_minor": 2
}
