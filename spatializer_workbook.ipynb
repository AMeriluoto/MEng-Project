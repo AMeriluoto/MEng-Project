{
 "cells": [
  {
   "cell_type": "code",
   "execution_count": 2,
   "metadata": {},
   "outputs": [],
   "source": [
    "import numpy as np\n",
    "from scipy.io import wavfile\n",
    "\n",
    "# =======================================\n",
    "# Constants\n",
    "# =======================================\n",
    "\n",
    "t_per_sample = 0.00002267573\n",
    "\n",
    "sample_T = 1 / 44100 # Period of sample (in s)\n",
    "\n",
    "# =======================================\n",
    "# Parameters to tune for audio processing\n",
    "# =======================================\n",
    "\n",
    "g = 0.5 # Amplitude multiplier\n",
    "\n",
    "# We use cartesian coordinates to model the motion of a point audio source\n",
    "# around a listener centered around the origin\n",
    "\n",
    "# The left ear is located at (-10, 0), the right ear at (10, 0)\n",
    "\n",
    "left_ear_pos = np.array([-10, 0])\n",
    "right_ear_os = np.array([10, 0])\n",
    "\n",
    "'''\n",
    "Adds a spatial characteristic to an input .wav audio file\n",
    "\n",
    "param[in] input_path : path to the input audio file\n",
    "param[out] output_path : paht to the output audio file\n",
    "param[in] span : [0, 100] with 100 representing an audio signal coming from the right and 0 representing an audio signal\n",
    "                coming from the left\n",
    "'''\n",
    "# TO DO: Change parameter to accept position of audio signal in space \n",
    "# Frequency attenuation \n",
    "# Hardcode left and right channel positions relative to origin\n",
    "\n",
    "def head_transfer_function(input_path : str, output_path : str, span : int):\n",
    "    span = 0 if span < 0 else min(span, 100)\n",
    "\n",
    "    sample_rate, data = wavfile.read(input_path)\n",
    "    audio_data = np.array(data, dtype=np.float32)\n",
    "\n",
    "    if data.dtype == np.int16:\n",
    "        audio_data = audio_data / 32768.0  # 16-bit audio normalization\n",
    "    elif data.dtype == np.int32:\n",
    "        audio_data = audio_data / 2147483648.0  # 32-bit audio normalization\n",
    "    elif data.dtype == np.uint8:\n",
    "        audio_data = (audio_data - 128) / 128.0  # 8-bit audio normalization\n",
    "\n",
    "    #sample_T = 1 / sample_rate # Period of sample (in s)\n",
    "\n",
    "    # -100 = 0.0003\n",
    "    # 0 = 0\n",
    "    # 100 = 0.0003\n",
    "\n",
    "    time_delay = 0.0003 # Time delay to imitate audio traveling from one ear to the other\n",
    "    sample_shift = int(time_delay / sample_T) # Number of samples we have to shift by\n",
    "\n",
    "    right_span = span\n",
    "    left_span = 100 - span\n",
    "\n",
    "    # Channel shifts are inversely proportional to their respective channel spans\n",
    "    # thus directly proportional with the span of the opposite channel\n",
    "\n",
    "    if span >= 50:\n",
    "        right_sample_shift = 0\n",
    "        left_sample_shift = int(0.0003 * ((span - 50) / 50) / sample_T)\n",
    "    else:\n",
    "        right_sample_shift = int(int(0.0003 * ((50 - span) / 50) / sample_T))\n",
    "        left_sample_shift = 0\n",
    "\n",
    "    left_sample_padding = right_sample_shift\n",
    "    right_sample_padding = left_sample_shift\n",
    "\n",
    "    left_amp_mult = g + (1 - g) * (left_span / 100)\n",
    "    right_amp_mult = g + (1 - g) * (right_span / 100)\n",
    "\n",
    "    '''left_amp_mult = 1 if span <= 100 else (g * (100 / (span - 100)))\n",
    "    right_amp_mult = 1 if span >= 100 else (g * (100 / (100 - span)))'''\n",
    "\n",
    "    print(f\"span : left shift : right shift | {span, left_sample_shift, right_sample_shift}\")\n",
    "    print(f\"left_amp_mult {left_amp_mult}, right_amp_mult {right_amp_mult}\")\n",
    "\n",
    "    left_channel_padded = np.array([0. for _ in range(left_sample_shift)] + [audio_data[i] for i in range(len(audio_data))] + [0. for _ in range(left_sample_padding)], \n",
    "                                   dtype=np.float32)\n",
    "    left_channel_padded *= left_amp_mult\n",
    "    right_channel_padded = np.array([0. for _ in range(right_sample_shift)] + [audio_data[i] for i in range(len(audio_data))] + [0. for _ in range(right_sample_padding)], \n",
    "                                   dtype=np.float32)\n",
    "    right_channel_padded *= right_amp_mult\n",
    "\n",
    "    return (left_channel_padded, right_channel_padded, sample_rate)\n",
    "    \n",
    "\n",
    "def get_span_from_point(point : np.ndarray):\n",
    "    point = np.array(point)\n",
    "    #dist = np.linalg.norm(left_ear_pos - point)\n",
    "    r_dist = np.linalg.norm(right_ear_os - point)\n",
    "    l_dist = np.linalg.norm(left_ear_pos - point)\n",
    "\n",
    "    diff = abs(r_dist - l_dist)\n",
    "    diff = min(diff, 20)\n",
    "\n",
    "    if r_dist <= l_dist:\n",
    "        span = 50 + 50 * (diff / 20)\n",
    "    else:\n",
    "        span = 50 - (50 * (diff / 20))\n",
    "    \n",
    "    return span\n"
   ]
  },
  {
   "cell_type": "code",
   "execution_count": 9,
   "metadata": {},
   "outputs": [],
   "source": [
    "# Returns a list of points representing the motion of a particle based on the length of time spanned by an input audio file\n",
    "def model_particle_orbit(input_path : str):\n",
    "    t = 0\n",
    "    pos = []\n",
    "\n",
    "    _, data = wavfile.read(input_path)\n",
    "    wav = np.array(data, dtype=np.float32)\n",
    "\n",
    "    for _ in wav:\n",
    "        # Our point does a complete rotation in 2 second\n",
    "        point = (-10 * np.sin(2 * np.pi * t / 2), 10 * np.cos(2 * np.pi * t / 2))\n",
    "        pos.append(point)\n",
    "        t += t_per_sample  \n",
    "    return pos"
   ]
  },
  {
   "cell_type": "code",
   "execution_count": 5,
   "metadata": {},
   "outputs": [],
   "source": [
    "def spatialize_from_point(input_path : str, output_path : str, point : list):\n",
    "    try:\n",
    "        _, _ = point\n",
    "    except ValueError:\n",
    "        print(f\"ERROR: Point passed into spatialize_from_point is of invalid format. Expected (x, y). Received: {point}\")\n",
    "        return\n",
    "    \n",
    "    span = get_span_from_point(point)\n",
    "\n",
    "    left_channel_padded, right_channel_padded, sample_rate = head_transfer_function(input_path, output_path, span)\n",
    "\n",
    "    tone_y_stereo=np.vstack((left_channel_padded, right_channel_padded))\n",
    "    tone_y_stereo=tone_y_stereo.transpose()\n",
    "    wavfile.write(output_path, sample_rate, tone_y_stereo)\n",
    "\n",
    "def spatialize_from_points(input_path : str, output_path : str, points : list[list]):\n",
    "    if len(points) == 0:\n",
    "        print(\"ERROR: List of points contains no entries\")\n",
    "        return\n",
    "\n",
    "    left_channel = []\n",
    "    right_channel = []\n",
    "    for point in points:\n",
    "        try:\n",
    "            _, _ = point\n",
    "        except ValueError:\n",
    "            print(f\"ERROR: Point passed into spatialize_from_point is of invalid format. Expected (x, y). Received: {point}\")\n",
    "            return\n",
    "        \n",
    "        span = get_span_from_point(point)\n",
    "\n",
    "        left_channel_padded, right_channel_padded, sample_rate = head_transfer_function(input_path, output_path, span)\n",
    "\n",
    "\n",
    "        #left_channel = np.concatenate((left_channel, left_channel_padded))\n",
    "        #right_channel = np.concatenate((right_channel, right_channel_padded))\n",
    "\n",
    "        left_channel.append(left_channel_padded)\n",
    "        right_channel.append(right_channel_padded)\n",
    "\n",
    "        #print(sample_rate)\n",
    "\n",
    "        print(f\"Len of both channels (left, right) : {len(left_channel)}, {len(right_channel)}\")\n",
    "    \n",
    "    #print(right_channel)\n",
    "\n",
    "    # TO DO: Figure out why accumulating into two channels with np.concatenate was not working\n",
    "\n",
    "    left_channel_final = []\n",
    "    for audio in left_channel:\n",
    "        for sample in audio:\n",
    "            left_channel_final.append(sample)\n",
    "\n",
    "    right_channel_final = []\n",
    "    for audio in right_channel:\n",
    "        for sample in audio:\n",
    "            right_channel_final.append(sample)\n",
    "    \n",
    "    left_channel_final = np.array(left_channel_final)\n",
    "    right_channel_final = np.array(right_channel_final)\n",
    "    \n",
    "    tone_y_stereo=np.vstack((left_channel_final, right_channel_final))\n",
    "    tone_y_stereo=tone_y_stereo.transpose()\n",
    "    wavfile.write(output_path, 44100, tone_y_stereo)"
   ]
  },
  {
   "cell_type": "code",
   "execution_count": 77,
   "metadata": {},
   "outputs": [],
   "source": [
    "class RingBuf:\n",
    "    # Constructor (initializer)\n",
    "    def __init__(self):\n",
    "        self.buf = [0. for _ in range(14)]\n",
    "        self.l_ptr = 0\n",
    "        self.r_ptr = 0\n",
    "        self.w_ptr = 0\n",
    "\n",
    "    def write(self, val : float):\n",
    "        self.buf[self.w_ptr] = val\n",
    "        self.w_ptr = (self.w_ptr + 1) % len(self.buf)\n",
    "        self.r_ptr = (self.r_ptr + 1) % len(self.buf)\n",
    "        self.l_ptr = (self.l_ptr + 1) % len(self.buf)\n",
    "    \n",
    "    def read(self, span):\n",
    "        #span = get_span_from_point(pos)\n",
    "        left_sample_shift = 0\n",
    "        right_sample_shift = 0\n",
    "        if span >= 50:\n",
    "            left_sample_shift = int(0.0003 * ((span - 50) / 50) / sample_T)\n",
    "            self.r_ptr = (self.w_ptr - 1) % len(self.buf)\n",
    "            self.l_ptr = (self.w_ptr - left_sample_shift - 1) % len(self.buf)\n",
    "        else:\n",
    "            right_sample_shift = int(0.0003 * ((50 - span) / 50) / sample_T)\n",
    "            self.l_ptr = (self.w_ptr - 1) % len(self.buf)\n",
    "            self.r_ptr = (self.w_ptr - right_sample_shift - 1) % len(self.buf)\n",
    "        \n",
    "        #print(f\"L ({left_sample_shift}) | R ({right_sample_shift})\")\n",
    "        #print(f\"L_ptr ({self.l_ptr}) | R_ptr ({self.r_ptr})\")\n",
    "        return (self.buf[self.l_ptr], self.buf[self.r_ptr])\n",
    "\n",
    "\n",
    "\n",
    "        "
   ]
  },
  {
   "cell_type": "code",
   "execution_count": 76,
   "metadata": {},
   "outputs": [
    {
     "name": "stdout",
     "output_type": "stream",
     "text": [
      "L_ptr (13) | R_ptr (0)\n"
     ]
    },
    {
     "data": {
      "text/plain": [
       "(13.0, 0.0)"
      ]
     },
     "execution_count": 76,
     "metadata": {},
     "output_type": "execute_result"
    }
   ],
   "source": [
    "rb = RingBuf()\n",
    "for i in range(14):\n",
    "    rb.write(float(i))\n",
    "rb.read(0)\n"
   ]
  },
  {
   "cell_type": "code",
   "execution_count": 79,
   "metadata": {},
   "outputs": [],
   "source": [
    "def spatialize_over_time(input_path : str, output_path : str, pos_lst : list):\n",
    "    sample_rate, data = wavfile.read(input_path)\n",
    "    audio_data = np.array(data, dtype=np.float32)\n",
    "\n",
    "    if data.dtype == np.int16:\n",
    "        audio_data = audio_data / 32768.0  # 16-bit audio normalization\n",
    "    elif data.dtype == np.int32:\n",
    "        audio_data = audio_data / 2147483648.0  # 32-bit audio normalization\n",
    "    elif data.dtype == np.uint8:\n",
    "        audio_data = (audio_data - 128) / 128.0  # 8-bit audio normalization\n",
    "\n",
    "    sample_T = 1 / sample_rate # Period of sample (in s)\n",
    "\n",
    "    # -100 = 0.0003\n",
    "    # 0 = 0\n",
    "    # 100 = 0.0003\n",
    "\n",
    "    #print(audio_data.shape)\n",
    "\n",
    "    # Known Issue: Sometimes audio data will duplicate samples into two columns\n",
    "\n",
    "    if(len(audio_data.shape) > 1):\n",
    "        print(\"whoopsy daisy\")\n",
    "        audio_data = audio_data[:, 0:1]\n",
    "        audio_data = audio_data.flatten()\n",
    "\n",
    "    #print(data)\n",
    "    #print(audio_data.shape)\n",
    "    #return\n",
    "    #return\n",
    "\n",
    "    channel_buf = RingBuf()\n",
    "    left = []\n",
    "    right = []\n",
    "\n",
    "    for i in range(len(audio_data)):\n",
    "        pos = pos_lst[i]\n",
    "        span = get_span_from_point(pos)\n",
    "        right_span = span\n",
    "        left_span = 100 - span\n",
    "\n",
    "        #print(audio_data[i])\n",
    "\n",
    "        channel_buf.write(audio_data[i])\n",
    "        l, r = channel_buf.read(span)\n",
    "\n",
    "        #left.append(audio_data[i])\n",
    "        #right.append(audio_data[i])\n",
    "    \n",
    "        left_amp_mult = g + (1 - g) * (left_span / 100)\n",
    "        right_amp_mult = g + (1 - g) * (right_span / 100)\n",
    "\n",
    "        #print(f\"{l} | {r}\")\n",
    "        left.append(float(l * left_amp_mult))\n",
    "        right.append(float(r * right_amp_mult))\n",
    "        # iterate through middle channel\n",
    "        # Add middle channel to rin buffer\n",
    "    \n",
    "\n",
    "    left_channel = np.array(left, dtype=np.float32)\n",
    "    right_channel = np.array(right, dtype=np.float32)\n",
    "\n",
    "    assert len(left_channel) == len(right_channel)\n",
    "\n",
    "    tone_y_stereo=np.vstack((left_channel, right_channel))\n",
    "    tone_y_stereo=tone_y_stereo.transpose()\n",
    "    wavfile.write(output_path, 44100, tone_y_stereo)\n",
    "\n",
    "    '''time_delay = 0.0003 # Time delay to imitate audio traveling from one ear to the other\n",
    "    sample_shift = int(time_delay / sample_T) # Number of samples we have to shift by\n",
    "\n",
    "    right_span = span\n",
    "    left_span = 100 - span\n",
    "\n",
    "    # Channel shifts are inversely proportional to their respective channel spans\n",
    "    # thus directly proportional with the span of the opposite channel\n",
    "\n",
    "    if span >= 50:\n",
    "        right_sample_shift = 0\n",
    "        left_sample_shift = int(0.0003 * ((span - 50) / 50) / sample_T)\n",
    "    else:\n",
    "        right_sample_shift = int(int(0.0003 * ((50 - span) / 50) / sample_T))\n",
    "        left_sample_shift = 0\n",
    "\n",
    "    left_sample_padding = right_sample_shift\n",
    "    right_sample_padding = left_sample_shift\n",
    "\n",
    "    left_amp_mult = g + (1 - g) * (left_span / 100)\n",
    "    right_amp_mult = g + (1 - g) * (right_span / 100)'''"
   ]
  },
  {
   "cell_type": "code",
   "execution_count": 15,
   "metadata": {},
   "outputs": [],
   "source": [
    "points = model_particle_orbit(\"long_tone.wav\")"
   ]
  },
  {
   "cell_type": "code",
   "execution_count": 16,
   "metadata": {},
   "outputs": [
    {
     "name": "stdout",
     "output_type": "stream",
     "text": [
      "2725888\n"
     ]
    }
   ],
   "source": [
    "print(len(points))"
   ]
  },
  {
   "cell_type": "code",
   "execution_count": 62,
   "metadata": {},
   "outputs": [
    {
     "name": "stdout",
     "output_type": "stream",
     "text": [
      "whoopsy daisy\n"
     ]
    }
   ],
   "source": [
    "spatialize_over_time(\"long_tone.wav\", \"tone_over_time.wav\", points)"
   ]
  },
  {
   "cell_type": "code",
   "execution_count": 81,
   "metadata": {},
   "outputs": [
    {
     "name": "stdout",
     "output_type": "stream",
     "text": [
      "span : left shift : right shift | (20, 2, 10)\n",
      "left_amp_mult 0.9, right_amp_mult 0.6\n"
     ]
    },
    {
     "data": {
      "text/plain": [
       "(array([ 0.        ,  0.        , -0.00101624, ...,  0.        ,\n",
       "         0.        ,  0.        ], dtype=float32),\n",
       " array([ 0.        ,  0.        ,  0.        , ..., -0.00032959,\n",
       "         0.        ,  0.        ], dtype=float32),\n",
       " 44100)"
      ]
     },
     "execution_count": 81,
     "metadata": {},
     "output_type": "execute_result"
    }
   ],
   "source": [
    "head_transfer_function(\"drum.wav\", \"experiment.wav\", 20)"
   ]
  },
  {
   "cell_type": "code",
   "execution_count": 169,
   "metadata": {},
   "outputs": [
    {
     "name": "stdout",
     "output_type": "stream",
     "text": [
      "span : left shift : right shift | (99.74939697624609, 13, 0)\n",
      "left_amp_mult 0.5012530151187695, right_amp_mult 0.9987469848812305\n",
      "span : left shift : right shift | (0.0, 0, 13)\n",
      "left_amp_mult 1.0, right_amp_mult 0.5\n",
      "span : left shift : right shift | (53.53111175061199, 0, 0)\n",
      "left_amp_mult 0.73234444124694, right_amp_mult 0.76765555875306\n",
      "span : left shift : right shift | (60.48665962780756, 2, 0)\n",
      "left_amp_mult 0.6975667018609621, right_amp_mult 0.8024332981390379\n",
      "span : left shift : right shift | (50.0, 0, 0)\n",
      "left_amp_mult 0.75, right_amp_mult 0.75\n"
     ]
    }
   ],
   "source": [
    "spatialize_from_point(\"drum.wav\", \"experiment.wav\", [100, 10])\n",
    "\n",
    "spatialize_from_point(\"drum.wav\", \"left.wav\", [-20, 0])\n",
    "spatialize_from_point(\"drum.wav\", \"slightly_right.wav\", [1, 10])\n",
    "\n",
    "spatialize_from_point(\"drum.wav\", \"righter.wav\", [3,10])\n",
    "\n",
    "spatialize_from_point(\"drum.wav\", \"distant.wav\", [0,-20])\n"
   ]
  },
  {
   "cell_type": "code",
   "execution_count": 170,
   "metadata": {},
   "outputs": [
    {
     "name": "stdout",
     "output_type": "stream",
     "text": [
      "span : left shift : right shift | (100.0, 13, 0)\n",
      "left_amp_mult 0.5, right_amp_mult 1.0\n"
     ]
    },
    {
     "ename": "ValueError",
     "evalue": "setting an array element with a sequence. The requested array has an inhomogeneous shape after 1 dimensions. The detected shape was (31555,) + inhomogeneous part.",
     "output_type": "error",
     "traceback": [
      "\u001b[1;31m---------------------------------------------------------------------------\u001b[0m",
      "\u001b[1;31mValueError\u001b[0m                                Traceback (most recent call last)",
      "\u001b[1;32m~\\AppData\\Local\\Temp/ipykernel_35176/1988706564.py\u001b[0m in \u001b[0;36m<module>\u001b[1;34m\u001b[0m\n\u001b[1;32m----> 1\u001b[1;33m \u001b[0mspatialize_from_point\u001b[0m\u001b[1;33m(\u001b[0m\u001b[1;34m\"defaultAudio.wav\"\u001b[0m\u001b[1;33m,\u001b[0m \u001b[1;34m\"beep_right.wav\"\u001b[0m\u001b[1;33m,\u001b[0m \u001b[1;33m[\u001b[0m\u001b[1;36m10\u001b[0m\u001b[1;33m,\u001b[0m\u001b[1;36m0\u001b[0m\u001b[1;33m]\u001b[0m\u001b[1;33m)\u001b[0m\u001b[1;33m\u001b[0m\u001b[1;33m\u001b[0m\u001b[0m\n\u001b[0m",
      "\u001b[1;32m~\\AppData\\Local\\Temp/ipykernel_35176/2916276375.py\u001b[0m in \u001b[0;36mspatialize_from_point\u001b[1;34m(input_path, output_path, point)\u001b[0m\n\u001b[0;32m      8\u001b[0m     \u001b[0mspan\u001b[0m \u001b[1;33m=\u001b[0m \u001b[0mget_span_from_point\u001b[0m\u001b[1;33m(\u001b[0m\u001b[0mpoint\u001b[0m\u001b[1;33m)\u001b[0m\u001b[1;33m\u001b[0m\u001b[1;33m\u001b[0m\u001b[0m\n\u001b[0;32m      9\u001b[0m \u001b[1;33m\u001b[0m\u001b[0m\n\u001b[1;32m---> 10\u001b[1;33m     \u001b[0mleft_channel_padded\u001b[0m\u001b[1;33m,\u001b[0m \u001b[0mright_channel_padded\u001b[0m\u001b[1;33m,\u001b[0m \u001b[0msample_rate\u001b[0m \u001b[1;33m=\u001b[0m \u001b[0mhead_transfer_function\u001b[0m\u001b[1;33m(\u001b[0m\u001b[0minput_path\u001b[0m\u001b[1;33m,\u001b[0m \u001b[0moutput_path\u001b[0m\u001b[1;33m,\u001b[0m \u001b[0mspan\u001b[0m\u001b[1;33m)\u001b[0m\u001b[1;33m\u001b[0m\u001b[1;33m\u001b[0m\u001b[0m\n\u001b[0m\u001b[0;32m     11\u001b[0m \u001b[1;33m\u001b[0m\u001b[0m\n\u001b[0;32m     12\u001b[0m     \u001b[0mtone_y_stereo\u001b[0m\u001b[1;33m=\u001b[0m\u001b[0mnp\u001b[0m\u001b[1;33m.\u001b[0m\u001b[0mvstack\u001b[0m\u001b[1;33m(\u001b[0m\u001b[1;33m(\u001b[0m\u001b[0mleft_channel_padded\u001b[0m\u001b[1;33m,\u001b[0m \u001b[0mright_channel_padded\u001b[0m\u001b[1;33m)\u001b[0m\u001b[1;33m)\u001b[0m\u001b[1;33m\u001b[0m\u001b[1;33m\u001b[0m\u001b[0m\n",
      "\u001b[1;32m~\\AppData\\Local\\Temp/ipykernel_35176/3920925021.py\u001b[0m in \u001b[0;36mhead_transfer_function\u001b[1;34m(input_path, output_path, span)\u001b[0m\n\u001b[0;32m     76\u001b[0m     \u001b[0mprint\u001b[0m\u001b[1;33m(\u001b[0m\u001b[1;34mf\"left_amp_mult {left_amp_mult}, right_amp_mult {right_amp_mult}\"\u001b[0m\u001b[1;33m)\u001b[0m\u001b[1;33m\u001b[0m\u001b[1;33m\u001b[0m\u001b[0m\n\u001b[0;32m     77\u001b[0m \u001b[1;33m\u001b[0m\u001b[0m\n\u001b[1;32m---> 78\u001b[1;33m     left_channel_padded = np.array([0. for _ in range(left_sample_shift)] + [audio_data[i] for i in range(len(audio_data))] + [0. for _ in range(left_sample_padding)], \n\u001b[0m\u001b[0;32m     79\u001b[0m                                    dtype=np.float32)\n\u001b[0;32m     80\u001b[0m     \u001b[0mleft_channel_padded\u001b[0m \u001b[1;33m*=\u001b[0m \u001b[0mleft_amp_mult\u001b[0m\u001b[1;33m\u001b[0m\u001b[1;33m\u001b[0m\u001b[0m\n",
      "\u001b[1;31mValueError\u001b[0m: setting an array element with a sequence. The requested array has an inhomogeneous shape after 1 dimensions. The detected shape was (31555,) + inhomogeneous part."
     ]
    }
   ],
   "source": [
    "spatialize_from_point(\"defaultAudio.wav\", \"beep_right.wav\", [10,0])"
   ]
  },
  {
   "cell_type": "code",
   "execution_count": 142,
   "metadata": {},
   "outputs": [
    {
     "name": "stdout",
     "output_type": "stream",
     "text": [
      "span : left shift : right shift | (100.0, 13, 0)\n",
      "left_amp_mult 0.5, right_amp_mult 1.0\n",
      "Len of both channels (left, right) : 1, 1\n",
      "span : left shift : right shift | (50.0, 0, 0)\n",
      "left_amp_mult 0.75, right_amp_mult 0.75\n",
      "Len of both channels (left, right) : 2, 2\n",
      "span : left shift : right shift | (0.0, 0, 13)\n",
      "left_amp_mult 1.0, right_amp_mult 0.5\n",
      "Len of both channels (left, right) : 3, 3\n",
      "span : left shift : right shift | (50.0, 0, 0)\n",
      "left_amp_mult 0.75, right_amp_mult 0.75\n",
      "Len of both channels (left, right) : 4, 4\n"
     ]
    }
   ],
   "source": [
    "points = [[10, 0], [0,0], [-10,0], [0,0]]\n",
    "    \n",
    "spatialize_from_points(\"drum.wav\", \"concat_sounds.wav\", points)"
   ]
  },
  {
   "cell_type": "code",
   "execution_count": 177,
   "metadata": {},
   "outputs": [],
   "source": [
    "def hrt_test(input_path : str, output_path : str):\n",
    "    span = 100\n",
    "\n",
    "\n",
    "    sample_rate, data = wavfile.read(input_path)\n",
    "    audio_data = np.array(data, dtype=np.float32)\n",
    "\n",
    "    if data.dtype == np.int16:\n",
    "        audio_data = audio_data / 32768.0  # 16-bit audio normalization\n",
    "    elif data.dtype == np.int32:\n",
    "        audio_data = audio_data / 2147483648.0  # 32-bit audio normalization\n",
    "    elif data.dtype == np.uint8:\n",
    "        audio_data = (audio_data - 128) / 128.0  # 8-bit audio normalization\n",
    "\n",
    "    sample_T = 1 / sample_rate # Period of sample (in s)\n",
    "\n",
    "    # -100 = 0.0003\n",
    "    # 0 = 0\n",
    "    # 100 = 0.0003\n",
    "\n",
    "    time_delay = 0.0003 # Time delay to imitate audio traveling from one ear to the other\n",
    "    sample_shift = int(time_delay / sample_T) # Number of samples we have to shift by\n",
    "\n",
    "    right_span = span\n",
    "    left_span = 100 - span\n",
    "\n",
    "    # Channel shifts are inversely proportional to their respective channel spans\n",
    "    # thus directly proportional with the span of the opposite channel\n",
    "\n",
    "    if span >= 50:\n",
    "        right_sample_shift = 0\n",
    "        left_sample_shift = int(0.0003 * ((span - 50) / 50) / sample_T)\n",
    "    else:\n",
    "        right_sample_shift = int(int(0.0003 * ((50 - span) / 50) / sample_T))\n",
    "        left_sample_shift = 0\n",
    "\n",
    "    left_sample_padding = right_sample_shift\n",
    "    right_sample_padding = left_sample_shift\n",
    "\n",
    "    left_amp_mult = g + (1 - g) * (left_span / 100)\n",
    "    right_amp_mult = g + (1 - g) * (right_span / 100)\n",
    "\n",
    "    '''left_amp_mult = 1 if span <= 100 else (g * (100 / (span - 100)))\n",
    "    right_amp_mult = 1 if span >= 100 else (g * (100 / (100 - span)))'''\n",
    "\n",
    "    print(f\"span : left shift : right shift | {span, left_sample_shift, right_sample_shift}\")\n",
    "    print(f\"left_amp_mult {left_amp_mult}, right_amp_mult {right_amp_mult}\")\n",
    "\n",
    "    left_channel_padded = np.array([0. for _ in range(left_sample_shift)] + [audio_data[i] for i in range(len(audio_data))] + [0. for _ in range(left_sample_padding)], \n",
    "                                   dtype=np.float32)\n",
    "    left_channel_padded *= left_amp_mult\n",
    "    right_channel_padded = np.array([0. for _ in range(right_sample_shift)] + [audio_data[i] for i in range(len(audio_data))] + [0. for _ in range(right_sample_padding)], \n",
    "                                   dtype=np.float32)\n",
    "    right_channel_padded *= right_amp_mult\n",
    "\n",
    "    # Experimenting around with low pass filter on left channel\n",
    "\n",
    "    #bin_size = int(10 * (span - 50) / 50)\n",
    "    bin_size = 5\n",
    "    left_channel_final = []\n",
    "\n",
    "\n",
    "    for i in range(len(left_channel_padded)):\n",
    "        left_i = max(0, i - bin_size)\n",
    "        s = sum(left_channel_padded[left_i : i + 1])\n",
    "        left_channel_final.append(s / (i - left_i) + 1)        \n",
    "        \n",
    "    left_channel_final = np.array(left_channel_final, dtype=np.float32)\n",
    "    \n",
    "    print(f\"len of left channel {len(left_channel_final)} : len of right channel {len(right_channel_padded)}\")\n",
    "\n",
    "    tone_y_stereo=np.vstack((left_channel_final, right_channel_padded))\n",
    "    tone_y_stereo=tone_y_stereo.transpose()\n",
    "    wavfile.write(output_path, 44100, tone_y_stereo)"
   ]
  },
  {
   "cell_type": "code",
   "execution_count": 178,
   "metadata": {},
   "outputs": [
    {
     "name": "stdout",
     "output_type": "stream",
     "text": [
      "span : left shift : right shift | (100, 13, 0)\n",
      "left_amp_mult 0.5, right_amp_mult 1.0\n",
      "len of left channel 74899 : len of right channel 74899\n"
     ]
    }
   ],
   "source": [
    "hrt_test(\"drum.wav\", \"low_pass.wav\")\n",
    "#hrt_test(\"defaultAudio.wav\", \"low_pass_beep.wav\")"
   ]
  },
  {
   "cell_type": "code",
   "execution_count": 57,
   "metadata": {},
   "outputs": [
    {
     "name": "stdout",
     "output_type": "stream",
     "text": [
      "[23045 23036 23042 ...  -513  -255     0]\n",
      "(13416,)\n"
     ]
    }
   ],
   "source": [
    "spatialize_over_time(\"beep-02.wav\", \"beep_out.wav\", points)"
   ]
  },
  {
   "cell_type": "code",
   "execution_count": 80,
   "metadata": {},
   "outputs": [
    {
     "name": "stdout",
     "output_type": "stream",
     "text": [
      "whoopsy daisy\n"
     ]
    }
   ],
   "source": [
    "spatialize_over_time(\"mid_tone.wav\", \"mid_ex_out.wav\", points)"
   ]
  }
 ],
 "metadata": {
  "kernelspec": {
   "display_name": "Python 3",
   "language": "python",
   "name": "python3"
  },
  "language_info": {
   "codemirror_mode": {
    "name": "ipython",
    "version": 3
   },
   "file_extension": ".py",
   "mimetype": "text/x-python",
   "name": "python",
   "nbconvert_exporter": "python",
   "pygments_lexer": "ipython3",
   "version": "3.9.1"
  }
 },
 "nbformat": 4,
 "nbformat_minor": 2
}
