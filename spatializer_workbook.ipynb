{
 "cells": [
  {
   "cell_type": "code",
   "execution_count": 72,
   "metadata": {},
   "outputs": [],
   "source": [
    "import numpy as np\n",
    "from scipy.io import wavfile\n",
    "\n",
    "\n",
    "# =======================================\n",
    "# Parameters to tune for audio processing\n",
    "# =======================================\n",
    "\n",
    "g = 0.5 # Amplitude multiplier\n",
    "\n",
    "# We use cartesian coordinates to model the motion of a point audio source\n",
    "# around a listener centered around the origin\n",
    "\n",
    "# The left ear is located at (-10, 0), the right ear at (10, 0)\n",
    "\n",
    "left_ear_pos = np.array([-10, 0])\n",
    "right_ear_os = np.array([10, 0])\n",
    "\n",
    "\n",
    "\n",
    "'''\n",
    "Adds a spatial characteristic to an input .wav audio file\n",
    "\n",
    "param[in] input_path : path to the input audio file\n",
    "param[out] output_path : paht to the output audio file\n",
    "param[in] span : [0, 100] with 100 representing an audio signal coming from the right and 0 representing an audio signal\n",
    "                coming from the left\n",
    "'''\n",
    "# TO DO: Change parameter to accept position of audio signal in space \n",
    "# Frequency attenuation \n",
    "# Hardcode left and right channel positions relative to origin\n",
    "\n",
    "def head_transfer_function(input_path : str, output_path : str, span : int):\n",
    "    span = 0 if span < 0 else min(span, 100)\n",
    "\n",
    "    sample_rate, data = wavfile.read(input_path)\n",
    "    audio_data = np.array(data, dtype=np.float32)\n",
    "\n",
    "    if data.dtype == np.int16:\n",
    "        audio_data = audio_data / 32768.0  # 16-bit audio normalization\n",
    "    elif data.dtype == np.int32:\n",
    "        audio_data = audio_data / 2147483648.0  # 32-bit audio normalization\n",
    "    elif data.dtype == np.uint8:\n",
    "        audio_data = (audio_data - 128) / 128.0  # 8-bit audio normalization\n",
    "\n",
    "    sample_T = 1 / sample_rate # Period of sample (in s)\n",
    "\n",
    "    # -100 = 0.0003\n",
    "    # 0 = 0\n",
    "    # 100 = 0.0003\n",
    "\n",
    "    time_delay = 0.0003 # Time delay to imitate audio traveling from one ear to the other\n",
    "    sample_shift = int(time_delay / sample_T) # Number of samples we have to shift by\n",
    "\n",
    "    right_span = span\n",
    "    left_span = 100 - span\n",
    "\n",
    "    # Channel shifts are inversely proportional to their respective channel spans\n",
    "    # thus directly proportional with the span of the opposite channel\n",
    "\n",
    "    left_sample_shift = int(0.0003 * ((right_span) / 100) / sample_T)\n",
    "    right_sample_shift = int(0.0003 * ((left_span) / 100) / sample_T)\n",
    "\n",
    "    '''left_sample_shift = 0 if span < 100 else int(0.0003 * ((span - 100) / 100) / sample_T)\n",
    "    right_sample_shift = 0 if span > 100 else int(0.0003 * ((100 - span) / 100) / sample_T)'''\n",
    "\n",
    "    left_sample_padding = right_sample_shift\n",
    "    right_sample_padding = left_sample_shift\n",
    "\n",
    "    left_amp_mult = g + (1 - g) * (left_span / 100)\n",
    "    right_amp_mult = g + (1 - g) * (right_span / 100)\n",
    "\n",
    "    '''left_amp_mult = 1 if span <= 100 else (g * (100 / (span - 100)))\n",
    "    right_amp_mult = 1 if span >= 100 else (g * (100 / (100 - span)))'''\n",
    "\n",
    "    print(f\"span : left shift : right shift | {span, left_sample_shift, right_sample_shift}\")\n",
    "    print(f\"left_amp_mult {left_amp_mult}, right_amp_mult {right_amp_mult}\")\n",
    "\n",
    "    left_channel_padded = np.array([0. for _ in range(left_sample_shift)] + [audio_data[i] for i in range(len(audio_data))] + [0. for _ in range(left_sample_padding)], \n",
    "                                   dtype=np.float32)\n",
    "    left_channel_padded *= left_amp_mult\n",
    "    right_channel_padded = np.array([0. for _ in range(right_sample_shift)] + [audio_data[i] for i in range(len(audio_data))] + [0. for _ in range(right_sample_padding)], \n",
    "                                   dtype=np.float32)\n",
    "    right_channel_padded *= right_amp_mult\n",
    "\n",
    "    return (left_channel_padded, right_channel_padded, sample_rate)\n",
    "    \n",
    "\n",
    "def get_span_from_point(point : np.ndarray):\n",
    "    point = np.array(point)\n",
    "    #dist = np.linalg.norm(left_ear_pos - point)\n",
    "    r_dist = np.linalg.norm(right_ear_os - point)\n",
    "    l_dist = np.linalg.norm(left_ear_pos - point)\n",
    "\n",
    "    diff = abs(r_dist - l_dist)\n",
    "    diff = min(diff, 20)\n",
    "\n",
    "    if r_dist <= l_dist:\n",
    "        span = 50 + 50 * (diff / 20)\n",
    "    else:\n",
    "        span = 50 - (50 * (diff / 20))\n",
    "    \n",
    "    return span\n"
   ]
  },
  {
   "cell_type": "code",
   "execution_count": 70,
   "metadata": {},
   "outputs": [],
   "source": [
    "def spatialize_from_point(input_path : str, output_path : str, point : list):\n",
    "    try:\n",
    "        _, _ = point\n",
    "    except ValueError:\n",
    "        print(f\"ERROR: Point passed into spatialize_from_point is of invalid format. Expected (x, y). Received: {point}\")\n",
    "        return\n",
    "    \n",
    "    span = get_span_from_point(point)\n",
    "\n",
    "    left_channel_padded, right_channel_padded, sample_rate = head_transfer_function(input_path, output_path, span)\n",
    "\n",
    "    tone_y_stereo=np.vstack((left_channel_padded, right_channel_padded))\n",
    "    tone_y_stereo=tone_y_stereo.transpose()\n",
    "    wavfile.write(output_path, sample_rate, tone_y_stereo)\n"
   ]
  },
  {
   "cell_type": "code",
   "execution_count": 14,
   "metadata": {},
   "outputs": [
    {
     "ename": "NameError",
     "evalue": "name 'head_transfer_function' is not defined",
     "output_type": "error",
     "traceback": [
      "\u001b[1;31m---------------------------------------------------------------------------\u001b[0m",
      "\u001b[1;31mNameError\u001b[0m                                 Traceback (most recent call last)",
      "\u001b[1;32m~\\AppData\\Local\\Temp/ipykernel_35176/1271516431.py\u001b[0m in \u001b[0;36m<module>\u001b[1;34m\u001b[0m\n\u001b[1;32m----> 1\u001b[1;33m \u001b[0mhead_transfer_function\u001b[0m\u001b[1;33m(\u001b[0m\u001b[1;34m\"drum.wav\"\u001b[0m\u001b[1;33m,\u001b[0m \u001b[1;34m\"output.wav\"\u001b[0m\u001b[1;33m,\u001b[0m \u001b[1;36m100\u001b[0m\u001b[1;33m)\u001b[0m\u001b[1;33m\u001b[0m\u001b[1;33m\u001b[0m\u001b[0m\n\u001b[0m\u001b[0;32m      2\u001b[0m \u001b[0mhead_transfer_function\u001b[0m\u001b[1;33m(\u001b[0m\u001b[1;34m\"drum.wav\"\u001b[0m\u001b[1;33m,\u001b[0m \u001b[1;34m\"left_output.wav\"\u001b[0m\u001b[1;33m,\u001b[0m \u001b[1;36m0\u001b[0m\u001b[1;33m)\u001b[0m\u001b[1;33m\u001b[0m\u001b[1;33m\u001b[0m\u001b[0m\n\u001b[0;32m      3\u001b[0m \u001b[0mhead_transfer_function\u001b[0m\u001b[1;33m(\u001b[0m\u001b[1;34m\"drum.wav\"\u001b[0m\u001b[1;33m,\u001b[0m \u001b[1;34m\"middle.wav\"\u001b[0m\u001b[1;33m,\u001b[0m \u001b[1;36m50\u001b[0m\u001b[1;33m)\u001b[0m\u001b[1;33m\u001b[0m\u001b[1;33m\u001b[0m\u001b[0m\n",
      "\u001b[1;31mNameError\u001b[0m: name 'head_transfer_function' is not defined"
     ]
    }
   ],
   "source": [
    "head_transfer_function(\"drum.wav\", \"output.wav\", 100)\n",
    "head_transfer_function(\"drum.wav\", \"left_output.wav\", 0)\n",
    "head_transfer_function(\"drum.wav\", \"middle.wav\", 50)"
   ]
  },
  {
   "cell_type": "code",
   "execution_count": 12,
   "metadata": {},
   "outputs": [
    {
     "name": "stdout",
     "output_type": "stream",
     "text": [
      "span : left shift : right shift | (20, 2, 10)\n",
      "left_amp_mult 0.9, right_amp_mult 0.6\n"
     ]
    }
   ],
   "source": [
    "head_transfer_function(\"drum.wav\", \"experiment.wav\", 20)"
   ]
  },
  {
   "cell_type": "code",
   "execution_count": 73,
   "metadata": {},
   "outputs": [
    {
     "name": "stdout",
     "output_type": "stream",
     "text": [
      "span : left shift : right shift | (99.74939697624609, 13, 0)\n",
      "left_amp_mult 0.5012530151187695, right_amp_mult 0.9987469848812305\n"
     ]
    }
   ],
   "source": [
    "spatialize_from_point(\"drum.wav\", \"experiment.wav\", [100, 10])"
   ]
  }
 ],
 "metadata": {
  "kernelspec": {
   "display_name": "Python 3",
   "language": "python",
   "name": "python3"
  },
  "language_info": {
   "codemirror_mode": {
    "name": "ipython",
    "version": 3
   },
   "file_extension": ".py",
   "mimetype": "text/x-python",
   "name": "python",
   "nbconvert_exporter": "python",
   "pygments_lexer": "ipython3",
   "version": "3.9.1"
  }
 },
 "nbformat": 4,
 "nbformat_minor": 2
}
